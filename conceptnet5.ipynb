{
  "nbformat": 4,
  "nbformat_minor": 0,
  "metadata": {
    "colab": {
      "provenance": [],
      "authorship_tag": "ABX9TyNarENQWFsCGhvALz/WBuqM",
      "include_colab_link": true
    },
    "kernelspec": {
      "name": "python3",
      "display_name": "Python 3"
    },
    "language_info": {
      "name": "python"
    }
  },
  "cells": [
    {
      "cell_type": "markdown",
      "metadata": {
        "id": "view-in-github",
        "colab_type": "text"
      },
      "source": [
        "<a href=\"https://colab.research.google.com/github/LorenzoSansone/Data-Intensive/blob/main/conceptnet5.ipynb\" target=\"_parent\"><img src=\"https://colab.research.google.com/assets/colab-badge.svg\" alt=\"Open In Colab\"/></a>"
      ]
    },
    {
      "cell_type": "markdown",
      "source": [
        "#Api conceptnet5"
      ],
      "metadata": {
        "id": "CPSGDlfn7WzA"
      }
    },
    {
      "cell_type": "markdown",
      "source": [
        "Request "
      ],
      "metadata": {
        "id": "cTUzqL5K7b6C"
      }
    },
    {
      "cell_type": "code",
      "execution_count": 24,
      "metadata": {
        "colab": {
          "base_uri": "https://localhost:8080/"
        },
        "id": "XEdv8clizfJk",
        "outputId": "a221f80c-9bef-4856-b50f-b94c46abf97e"
      },
      "outputs": [
        {
          "output_type": "execute_result",
          "data": {
            "text/plain": [
              "dict_keys(['@context', '@id', 'edges', 'version', 'view'])"
            ]
          },
          "metadata": {},
          "execution_count": 24
        }
      ],
      "source": [
        "import requests\n",
        "obj = requests.get('http://api.conceptnet.io/c/it/istruzione').json()\n",
        "obj.keys()"
      ]
    },
    {
      "cell_type": "markdown",
      "source": [
        "Lista degli edge sulla parola \"istruzione\""
      ],
      "metadata": {
        "id": "zvSme61EAyqW"
      }
    },
    {
      "cell_type": "code",
      "source": [
        "for edge in obj['edges']:\n",
        "  print(edge[\"@id\"])"
      ],
      "metadata": {
        "colab": {
          "base_uri": "https://localhost:8080/"
        },
        "id": "UAIto7kr2wdd",
        "outputId": "aef7fedb-ea6e-4ff1-8cde-433e634a25b0"
      },
      "execution_count": 25,
      "outputs": [
        {
          "output_type": "stream",
          "name": "stdout",
          "text": [
            "/a/[/r/Synonym/,/c/it/istruzione/n/wn/attribute/,/c/en/education/n/wn/attribute/]\n",
            "/a/[/r/Synonym/,/c/it/istruzione/n/wn/act/,/c/en/training/n/wn/act/]\n",
            "/a/[/r/Synonym/,/c/it/istruzione/n/wn/act/,/c/en/education/n/wn/act/]\n",
            "/a/[/r/Synonym/,/c/it/istruzione/n/wn/communication/,/c/en/direction/n/wn/communication/]\n",
            "/a/[/r/Synonym/,/c/it/istruzione/n/wn/computer_science/,/c/en/instruction/n/wn/computer_science/]\n",
            "/a/[/r/Synonym/,/c/it/istruzione/n/wn/cognition/,/c/en/education/n/wn/cognition/]\n",
            "/a/[/r/Synonym/,/c/it/disposizione/n/,/c/it/istruzione/]\n",
            "/a/[/r/Synonym/,/c/de/ausbildung/n/,/c/it/istruzione/]\n",
            "/a/[/r/Synonym/,/c/fr/instruction/n/,/c/it/istruzione/]\n",
            "/a/[/r/RelatedTo/,/c/it/istruzione/,/c/it/istruttorio/]\n",
            "/a/[/r/RelatedTo/,/c/it/istruzione/,/c/it/istruttoria/]\n",
            "/a/[/r/RelatedTo/,/c/it/istruzione/n/,/c/fr/mode_d’_emploi/]\n",
            "/a/[/r/RelatedTo/,/c/it/istruzione/n/,/c/en/schooling/]\n",
            "/a/[/r/RelatedTo/,/c/it/istruzione/,/c/it/istruire/]\n",
            "/a/[/r/Synonym/,/c/de/schulung/n/,/c/it/istruzione/]\n",
            "/a/[/r/Synonym/,/c/en/background/n/,/c/it/istruzione/]\n",
            "/a/[/r/RelatedTo/,/c/it/istruzione/n/,/c/en/instruction/]\n",
            "/a/[/r/RelatedTo/,/c/it/istruzione/n/,/c/fr/instruction/]\n",
            "/a/[/r/Synonym/,/c/de/bildung/n/,/c/it/istruzione/]\n",
            "/a/[/r/Synonym/,/c/it/norma/n/,/c/it/istruzione/]\n"
          ]
        }
      ]
    },
    {
      "cell_type": "code",
      "source": [
        "obj['edges'][0]"
      ],
      "metadata": {
        "colab": {
          "base_uri": "https://localhost:8080/"
        },
        "id": "0FPFSW0gBoP8",
        "outputId": "849ba065-4af3-4271-911a-536b32825dc9"
      },
      "execution_count": 31,
      "outputs": [
        {
          "output_type": "execute_result",
          "data": {
            "text/plain": [
              "{'@id': '/a/[/r/Synonym/,/c/it/istruzione/n/wn/attribute/,/c/en/education/n/wn/attribute/]',\n",
              " '@type': 'Edge',\n",
              " 'dataset': '/d/wordnet/3.1',\n",
              " 'end': {'@id': '/c/en/education/n/wn/attribute',\n",
              "  '@type': 'Node',\n",
              "  'label': 'education',\n",
              "  'language': 'en',\n",
              "  'sense_label': 'n, attribute',\n",
              "  'term': '/c/en/education'},\n",
              " 'license': 'cc:by/4.0',\n",
              " 'rel': {'@id': '/r/Synonym', '@type': 'Relation', 'label': 'Synonym'},\n",
              " 'sources': [{'@id': '/s/resource/wordnet/rdf/3.1',\n",
              "   '@type': 'Source',\n",
              "   'contributor': '/s/resource/wordnet/rdf/3.1'}],\n",
              " 'start': {'@id': '/c/it/istruzione/n/wn/attribute',\n",
              "  '@type': 'Node',\n",
              "  'label': 'istruzione',\n",
              "  'language': 'it',\n",
              "  'sense_label': 'n, attribute',\n",
              "  'term': '/c/it/istruzione'},\n",
              " 'surfaceText': '[[istruzione]] is a translation of [[education]]',\n",
              " 'weight': 2.0}"
            ]
          },
          "metadata": {},
          "execution_count": 31
        }
      ]
    },
    {
      "cell_type": "code",
      "source": [
        "obj['edges'][0][\"start\"]"
      ],
      "metadata": {
        "colab": {
          "base_uri": "https://localhost:8080/"
        },
        "id": "PzA2akbJA2Nv",
        "outputId": "0ef2e50c-560d-48eb-b50f-88b05c9e8fad"
      },
      "execution_count": 30,
      "outputs": [
        {
          "output_type": "execute_result",
          "data": {
            "text/plain": [
              "{'@id': '/c/it/istruzione/n/wn/attribute',\n",
              " '@type': 'Node',\n",
              " 'label': 'istruzione',\n",
              " 'language': 'it',\n",
              " 'sense_label': 'n, attribute',\n",
              " 'term': '/c/it/istruzione'}"
            ]
          },
          "metadata": {},
          "execution_count": 30
        }
      ]
    },
    {
      "cell_type": "code",
      "source": [
        "obj['edges'][0][\"end\"]"
      ],
      "metadata": {
        "colab": {
          "base_uri": "https://localhost:8080/"
        },
        "id": "MwuZlshjBrg0",
        "outputId": "77a045bd-2ebe-4059-ced9-b40306990408"
      },
      "execution_count": 32,
      "outputs": [
        {
          "output_type": "execute_result",
          "data": {
            "text/plain": [
              "{'@id': '/c/en/education/n/wn/attribute',\n",
              " '@type': 'Node',\n",
              " 'label': 'education',\n",
              " 'language': 'en',\n",
              " 'sense_label': 'n, attribute',\n",
              " 'term': '/c/en/education'}"
            ]
          },
          "metadata": {},
          "execution_count": 32
        }
      ]
    }
  ]
}